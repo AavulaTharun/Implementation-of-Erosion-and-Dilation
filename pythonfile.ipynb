{
 "cells": [
  {
   "cell_type": "code",
   "execution_count": null,
   "id": "74f7eab9-2e6c-4788-af61-cff3bbd703e3",
   "metadata": {},
   "outputs": [],
   "source": [
    "# Import the necessary packages\n",
    "import cv2\n",
    "import numpy as np\n",
    "import matplotlib.pyplot as plt\n",
    "\n",
    "# Create the Text using cv2.putText\n",
    "image= np.zeros((100,400),dtype='uint8')\n",
    "font = cv2.FONT_HERSHEY_SIMPLEX\n",
    "cv2.putText(image,'THARUN',(5,70), font,2,(255),5,cv2.LINE_AA)\n",
    "cv2.imshow(\"Name\",image)\n",
    "\n",
    "# Create the structuring element\n",
    "kernel1 = cv2.getStructuringElement(cv2.MORPH_CROSS,(7,7))\n",
    "\n",
    "# Erode the image\n",
    "erodeImage = cv2.erode(image,kernel1)\n",
    "cv2.imshow(\"Erode Image\",erodeImage)\n",
    "\n",
    "# Dilate the image\n",
    "dilationImage = cv2.dilate(image,kernel1)\n",
    "cv2.imshow(\"Dilated Image\",dilationImage)\n",
    "\n",
    "\n",
    "\n",
    "cv2.waitKey(0)\n",
    "cv2.DestroyAllWindows"
   ]
  },
  {
   "cell_type": "code",
   "execution_count": null,
   "id": "d8291bb1-3743-495f-8722-b88b119ee8a7",
   "metadata": {},
   "outputs": [],
   "source": []
  }
 ],
 "metadata": {
  "kernelspec": {
   "display_name": "Python 3",
   "language": "python",
   "name": "python3"
  },
  "language_info": {
   "codemirror_mode": {
    "name": "ipython",
    "version": 3
   },
   "file_extension": ".py",
   "mimetype": "text/x-python",
   "name": "python",
   "nbconvert_exporter": "python",
   "pygments_lexer": "ipython3",
   "version": "3.8.8"
  }
 },
 "nbformat": 4,
 "nbformat_minor": 5
}
